{
  "nbformat": 4,
  "nbformat_minor": 0,
  "metadata": {
    "colab": {
      "provenance": [],
      "authorship_tag": "ABX9TyNr1S9nN/GPvLqhenp9YWPI",
      "include_colab_link": true
    },
    "kernelspec": {
      "name": "python3",
      "display_name": "Python 3"
    },
    "language_info": {
      "name": "python"
    }
  },
  "cells": [
    {
      "cell_type": "markdown",
      "metadata": {
        "id": "view-in-github",
        "colab_type": "text"
      },
      "source": [
        "<a href=\"https://colab.research.google.com/github/gopika20077/ict_assignments/blob/main/assignment02_gopika.ipynb\" target=\"_parent\"><img src=\"https://colab.research.google.com/assets/colab-badge.svg\" alt=\"Open In Colab\"/></a>"
      ]
    },
    {
      "cell_type": "markdown",
      "source": [
        "**1.**"
      ],
      "metadata": {
        "id": "VzC_oED3CPdq"
      }
    },
    {
      "cell_type": "code",
      "execution_count": 2,
      "metadata": {
        "colab": {
          "base_uri": "https://localhost:8080/"
        },
        "id": "cibaQUo3BB4X",
        "outputId": "76570f8c-2ff3-43e2-db7b-1c25c2d7b06b"
      },
      "outputs": [
        {
          "output_type": "stream",
          "name": "stdout",
          "text": [
            "1\n",
            "2\n",
            "3 =fizz\n",
            "4\n",
            "5 =buzz\n",
            "6 =fizz\n",
            "7\n",
            "8\n",
            "9 =fizz\n",
            "10 =buzz\n",
            "11\n",
            "12 =fizz\n",
            "13\n",
            "14\n",
            "fizzbuzz\n",
            "16\n",
            "17\n",
            "18 =fizz\n",
            "19\n",
            "20 =buzz\n",
            "21 =fizz\n",
            "22\n",
            "23\n",
            "24 =fizz\n",
            "25 =buzz\n",
            "26\n",
            "27 =fizz\n",
            "28\n",
            "29\n",
            "fizzbuzz\n",
            "31\n",
            "32\n",
            "33 =fizz\n",
            "34\n",
            "35 =buzz\n",
            "36 =fizz\n",
            "37\n",
            "38\n",
            "39 =fizz\n",
            "40 =buzz\n",
            "41\n",
            "42 =fizz\n",
            "43\n",
            "44\n",
            "fizzbuzz\n",
            "46\n",
            "47\n",
            "48 =fizz\n",
            "49\n",
            "50 =buzz\n",
            "51 =fizz\n",
            "52\n",
            "53\n",
            "54 =fizz\n",
            "55 =buzz\n",
            "56\n",
            "57 =fizz\n",
            "58\n",
            "59\n",
            "fizzbuzz\n",
            "61\n",
            "62\n",
            "63 =fizz\n",
            "64\n",
            "65 =buzz\n",
            "66 =fizz\n",
            "67\n",
            "68\n",
            "69 =fizz\n",
            "70 =buzz\n",
            "71\n",
            "72 =fizz\n",
            "73\n",
            "74\n",
            "fizzbuzz\n",
            "76\n",
            "77\n",
            "78 =fizz\n",
            "79\n",
            "80 =buzz\n",
            "81 =fizz\n",
            "82\n",
            "83\n",
            "84 =fizz\n",
            "85 =buzz\n",
            "86\n",
            "87 =fizz\n",
            "88\n",
            "89\n",
            "fizzbuzz\n",
            "91\n",
            "92\n",
            "93 =fizz\n",
            "94\n",
            "95 =buzz\n",
            "96 =fizz\n",
            "97\n",
            "98\n",
            "99 =fizz\n",
            "100 =buzz\n"
          ]
        }
      ],
      "source": [
        "for i in range(1,101):\n",
        "  if i%3==0 and i%5==0:\n",
        "    print('fizzbuzz')\n",
        "  elif i%3==0:\n",
        "    print(i,'=fizz')\n",
        "  elif i%5==0:\n",
        "    print(i,'=buzz')\n",
        "  else:\n",
        "    print(i)"
      ]
    },
    {
      "cell_type": "markdown",
      "source": [
        "**2.**"
      ],
      "metadata": {
        "id": "9KI_xatoEX-3"
      }
    },
    {
      "cell_type": "code",
      "source": [
        "units = int(input(\"enter the number of units: \"))\n",
        "bill = 0\n",
        "if units <= 100:\n",
        "  bill = units + 5\n",
        "elif units <= 200:\n",
        "  bill = (100 * 5) + (units-100) * 7\n",
        "else:\n",
        "  bill = (100 * 5) + (100 * 7) + (units - 200) * 10\n",
        "print(f\"total bill amount:{bill} \")"
      ],
      "metadata": {
        "colab": {
          "base_uri": "https://localhost:8080/"
        },
        "id": "Vdb9GQpTD0z5",
        "outputId": "806bcc22-5e19-47a5-b82a-f272aafea85c"
      },
      "execution_count": 6,
      "outputs": [
        {
          "output_type": "stream",
          "name": "stdout",
          "text": [
            "enter the number of units: 120\n",
            "total bill amount:640 \n"
          ]
        }
      ]
    },
    {
      "cell_type": "markdown",
      "source": [
        "**3.**"
      ],
      "metadata": {
        "id": "w2ITwnGoJMp5"
      }
    },
    {
      "cell_type": "code",
      "source": [
        "for i in range(1,6):\n",
        " print('*' * i)"
      ],
      "metadata": {
        "colab": {
          "base_uri": "https://localhost:8080/"
        },
        "id": "l13qNTWEHkv1",
        "outputId": "04a31d28-f572-4821-c366-42e8b4639372"
      },
      "execution_count": 8,
      "outputs": [
        {
          "output_type": "stream",
          "name": "stdout",
          "text": [
            "*\n",
            "**\n",
            "***\n",
            "****\n",
            "*****\n"
          ]
        }
      ]
    },
    {
      "cell_type": "markdown",
      "source": [
        "**4.**"
      ],
      "metadata": {
        "id": "-zNavIasJXS5"
      }
    },
    {
      "cell_type": "code",
      "source": [
        "p = input(\"enter num/str to be checked:\")\n",
        "rev = p[::-1]\n",
        "if p == rev:\n",
        "  print(\"given num/str is a palindrome\")\n",
        "else:\n",
        "  print(\"given num/str is not palindrome\")"
      ],
      "metadata": {
        "colab": {
          "base_uri": "https://localhost:8080/"
        },
        "id": "D8zjC324JA8i",
        "outputId": "de9a203b-0601-4119-f12e-30003500e059"
      },
      "execution_count": 11,
      "outputs": [
        {
          "output_type": "stream",
          "name": "stdout",
          "text": [
            "enter num/str to be checked:25\n",
            "given num/str is not palindrome\n"
          ]
        }
      ]
    },
    {
      "cell_type": "code",
      "source": [],
      "metadata": {
        "id": "Wl740hXgL83X"
      },
      "execution_count": null,
      "outputs": []
    }
  ]
}