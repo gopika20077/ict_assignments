{
  "nbformat": 4,
  "nbformat_minor": 0,
  "metadata": {
    "colab": {
      "provenance": [],
      "authorship_tag": "ABX9TyMFjPoPREstLPFnIsmMerH5",
      "include_colab_link": true
    },
    "kernelspec": {
      "name": "python3",
      "display_name": "Python 3"
    },
    "language_info": {
      "name": "python"
    }
  },
  "cells": [
    {
      "cell_type": "markdown",
      "metadata": {
        "id": "view-in-github",
        "colab_type": "text"
      },
      "source": [
        "<a href=\"https://colab.research.google.com/github/gopika20077/ict_assignments/blob/main/assignment01_gopika.ipynb\" target=\"_parent\"><img src=\"https://colab.research.google.com/assets/colab-badge.svg\" alt=\"Open In Colab\"/></a>"
      ]
    },
    {
      "cell_type": "markdown",
      "source": [
        "**1.**"
      ],
      "metadata": {
        "id": "uFH5jkP17-gY"
      }
    },
    {
      "cell_type": "code",
      "source": [
        "# input function\n",
        "# Input for item 1\n",
        "item1_price = float(input(\"Item1 price: \"))\n",
        "item1_quantity = int(input(\"Item1 quantity: \"))\n",
        "# Input for item 2\n",
        "item2_price = float(input(\"Item2 price: \"))\n",
        "item2_quantity = int(input(\"Item2 quantity: \"))\n",
        "total_bill = (item1_price * item1_quantity) + (item2_price * item2_quantity)\n",
        "print(\"Total Bill:\",int(total_bill))\n"
      ],
      "metadata": {
        "colab": {
          "base_uri": "https://localhost:8080/"
        },
        "id": "B0AZLJh8WrT9",
        "outputId": "8965591c-5587-4166-f42d-90f86d440719"
      },
      "execution_count": null,
      "outputs": [
        {
          "output_type": "stream",
          "name": "stdout",
          "text": [
            "Item1 price: 45\n",
            "Item1 quantity: 2\n",
            "Item2 price: 35\n",
            "Item2 quantity: 4\n",
            "Total Bill: 230\n"
          ]
        }
      ]
    },
    {
      "cell_type": "markdown",
      "source": [
        "**2.**"
      ],
      "metadata": {
        "id": "mU1-pj5373P2"
      }
    },
    {
      "cell_type": "code",
      "source": [
        "c = float(input(\"Enter the temperature in celsius: \"))\n",
        "f = (c*9/5)+32\n",
        "print(\"Temperature in farenheit=\",f)"
      ],
      "metadata": {
        "colab": {
          "base_uri": "https://localhost:8080/"
        },
        "id": "FSFywRyaYF6C",
        "outputId": "9490fcda-3f75-49f1-f5f8-bb36f23e0545"
      },
      "execution_count": null,
      "outputs": [
        {
          "output_type": "stream",
          "name": "stdout",
          "text": [
            "Enter the temperature in celsius: 12\n",
            "Temperature in farenheit= 53.6\n"
          ]
        }
      ]
    },
    {
      "cell_type": "markdown",
      "source": [
        "**3.**"
      ],
      "metadata": {
        "id": "gNbFvt6T7zzP"
      }
    },
    {
      "cell_type": "code",
      "source": [
        "salary = int(input(\"enter your salary:\"))\n",
        "salary_hra = salary*20/100 + salary\n",
        "salary_d = salary_hra*10/100 + salary\n",
        "print(salary_d)"
      ],
      "metadata": {
        "id": "bxqaXhkWiNqy",
        "colab": {
          "base_uri": "https://localhost:8080/"
        },
        "outputId": "a677d969-61bc-45ba-810c-ce36592bd923"
      },
      "execution_count": 1,
      "outputs": [
        {
          "output_type": "stream",
          "name": "stdout",
          "text": [
            "enter your salary:55000\n",
            "61600.0\n"
          ]
        }
      ]
    },
    {
      "cell_type": "markdown",
      "source": [
        "**4.**"
      ],
      "metadata": {
        "id": "G77t6k6F7qov"
      }
    },
    {
      "cell_type": "code",
      "source": [
        "print(\"interest calculator\")\n",
        "p = int(input(\"enter principal:\"))\n",
        "r = float(input(\"enter rate of interest\"))\n",
        "t = int(input(\"time(in years)\"))\n",
        "si = (p*r*t)/100\n",
        "print(si)"
      ],
      "metadata": {
        "colab": {
          "base_uri": "https://localhost:8080/"
        },
        "id": "y1Tiz7gW7Dx6",
        "outputId": "f08d714d-00f1-4bc9-cc0d-10caf2d0f64d"
      },
      "execution_count": 2,
      "outputs": [
        {
          "output_type": "stream",
          "name": "stdout",
          "text": [
            "interest calculator\n",
            "enter principal:20000\n",
            "enter rate of interest4\n",
            "time(in years)2\n",
            "1600.0\n"
          ]
        }
      ]
    },
    {
      "cell_type": "markdown",
      "source": [
        "**5.**"
      ],
      "metadata": {
        "id": "BKXhlQ5Z8z_F"
      }
    },
    {
      "cell_type": "code",
      "source": [
        "print(\"Time conversion\")\n",
        "minutes = float(input(\"Enter total input:\"))\n",
        "hours = minutes/60\n",
        "print(hours)"
      ],
      "metadata": {
        "colab": {
          "base_uri": "https://localhost:8080/"
        },
        "id": "8QYBGpCZ7Xe5",
        "outputId": "d36158ea-dfd7-45a3-82fe-4d78fbef50c9"
      },
      "execution_count": 6,
      "outputs": [
        {
          "output_type": "stream",
          "name": "stdout",
          "text": [
            "Time conversion\n",
            "Enter total input:120\n",
            "2.0\n"
          ]
        }
      ]
    },
    {
      "cell_type": "markdown",
      "source": [
        "**6.**"
      ],
      "metadata": {
        "id": "Epj995cz84wF"
      }
    },
    {
      "cell_type": "code",
      "source": [
        "weight_kg = float(input(\"enter weight in kg:\"))\n",
        "height_m = float(input(\"enter height in m:\"))\n",
        "bmi = weight_kg / (height_m ** 2)\n",
        "print(\"bmi:\",bmi)"
      ],
      "metadata": {
        "colab": {
          "base_uri": "https://localhost:8080/"
        },
        "id": "ngrZVGZa8tIX",
        "outputId": "6394b841-c181-4dd3-e190-4de45c9d0333"
      },
      "execution_count": 8,
      "outputs": [
        {
          "output_type": "stream",
          "name": "stdout",
          "text": [
            "enter weight in kg:50\n",
            "enter height in m:1.25\n",
            "bmi: 32.0\n"
          ]
        }
      ]
    },
    {
      "cell_type": "markdown",
      "source": [
        "**7.**"
      ],
      "metadata": {
        "id": "QX26g5Qt_i96"
      }
    },
    {
      "cell_type": "code",
      "source": [
        "\n",
        "ogprice = int(input(\"orginal input price\"))\n",
        "dis = ogprice - (ogprice * 10/100)\n",
        "print(dis)"
      ],
      "metadata": {
        "colab": {
          "base_uri": "https://localhost:8080/"
        },
        "id": "bJpbdfQ--_rN",
        "outputId": "22eb3ad6-bbc3-414e-e6d4-cdfccd99f4d9"
      },
      "execution_count": 10,
      "outputs": [
        {
          "output_type": "stream",
          "name": "stdout",
          "text": [
            "orginal input price1000\n",
            "900.0\n"
          ]
        }
      ]
    },
    {
      "cell_type": "markdown",
      "source": [
        "**8.**"
      ],
      "metadata": {
        "id": "zkLGC6FKDO7W"
      }
    },
    {
      "cell_type": "code",
      "source": [
        "a=float(input(\"enter side a\"))\n",
        "b=float(input(\"enter side b\"))\n",
        "c=float(input(\"enter side c\"))\n",
        "s=(a+b+c)/2\n",
        "area=(s*(s-a)*(s-b)*(s-c))**0.5\n",
        "print(area)\n"
      ],
      "metadata": {
        "colab": {
          "base_uri": "https://localhost:8080/"
        },
        "id": "4WRSdu8jCDBo",
        "outputId": "a8e797f0-c978-43bd-c088-a24d1f097547"
      },
      "execution_count": 17,
      "outputs": [
        {
          "output_type": "stream",
          "name": "stdout",
          "text": [
            "enter side a6\n",
            "enter side b7\n",
            "enter side c8\n",
            "20.33316256758894\n"
          ]
        }
      ]
    },
    {
      "cell_type": "markdown",
      "source": [
        "**9.**"
      ],
      "metadata": {
        "id": "6lm-Icc2SlIE"
      }
    },
    {
      "cell_type": "code",
      "source": [
        "print(\"Paint Cost Estimator\")\n",
        "l = float(input(\"Enter length of the wall:\"))\n",
        "b = float(input(\"Enter breadth of the wall:\"))\n",
        "area = l * b\n",
        "area_w = 2*(1.5 * 1.2)\n",
        "paint = area - area_w\n",
        "print(paint,\"sq.m\")\n",
        "cost = paint * 25\n",
        "print(cost)"
      ],
      "metadata": {
        "colab": {
          "base_uri": "https://localhost:8080/"
        },
        "id": "iUivb6KAD59m",
        "outputId": "05290f74-e93c-4a77-9208-15da2664de48"
      },
      "execution_count": 18,
      "outputs": [
        {
          "output_type": "stream",
          "name": "stdout",
          "text": [
            "Paint Cost Estimator\n",
            "Enter length of the wall:16\n",
            "Enter breadth of the wall:8\n",
            "124.4 sq.m\n",
            "3110.0\n"
          ]
        }
      ]
    },
    {
      "cell_type": "markdown",
      "source": [
        "**10.**"
      ],
      "metadata": {
        "id": "H52cQQ41SpJ7"
      }
    },
    {
      "cell_type": "code",
      "source": [
        "a=float(input(\"Enter number of units consumed\"))\n",
        "b=(a*5.2)+100\n",
        "print(b)"
      ],
      "metadata": {
        "colab": {
          "base_uri": "https://localhost:8080/"
        },
        "id": "Pn-mDp7nFW-V",
        "outputId": "e44f0f1c-fa85-4b7e-89c3-9e6d2199bcab"
      },
      "execution_count": 19,
      "outputs": [
        {
          "output_type": "stream",
          "name": "stdout",
          "text": [
            "Enter number of units consumed150\n",
            "880.0\n"
          ]
        }
      ]
    }
  ]
}